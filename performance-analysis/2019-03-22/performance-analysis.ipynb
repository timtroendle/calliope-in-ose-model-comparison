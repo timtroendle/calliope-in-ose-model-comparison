{
 "cells": [
  {
   "cell_type": "markdown",
   "metadata": {},
   "source": [
    "# Measuring impact of tolerances on Gurobi\n",
    "\n",
    "In here we analyse the result of Gurobi runs using the same model but different parameter options. I used the `baseline` scenario and changed the `OptimalityTol` and `FeasibilityTol` values of Gurobi to:\n",
    "\n",
    "* 1e-6 (default value)\n",
    "* 1e-4\n",
    "* 1e-2 (max value)\n",
    "\n",
    "The hope being, that the result remains the same (remains close enough) but that solution time drops. Let's see whether that actually worked.\n",
    "   "
   ]
  },
  {
   "cell_type": "code",
   "execution_count": 1,
   "metadata": {},
   "outputs": [],
   "source": [
    "from pathlib import Path\n",
    "import re\n",
    "\n",
    "from scipy import stats"
   ]
  },
  {
   "cell_type": "code",
   "execution_count": 2,
   "metadata": {},
   "outputs": [],
   "source": [
    "SOLVE_DURATION_PREFIX = \"SOLVER   Solved in\"\n",
    "SOLUTION_PREFIX = \"SOLVER   Optimal objective\"\n",
    "\n",
    "\n",
    "def _preprocess_log(path_to_log):\n",
    "    path_to_log = Path(path_to_log)\n",
    "    with path_to_log.open(\"r\") as log_file:\n",
    "        lines = log_file.readlines()\n",
    "    return [line[22:] for line in lines]\n",
    "    \n",
    "\n",
    "def parse_solution_time(path_to_log):\n",
    "    lines = _preprocess_log(path_to_log)\n",
    "    duration_line = list(filter(lambda line: line.startswith(SOLVE_DURATION_PREFIX), lines))[0]\n",
    "    return float(re.findall('\\d+.?\\d+', duration_line)[1])\n",
    "\n",
    "\n",
    "def parse_iterations(path_to_log):\n",
    "    lines = _preprocess_log(path_to_log)\n",
    "    iterations_line = list(filter(lambda line: line.startswith(SOLVE_DURATION_PREFIX), lines))[0]\n",
    "    return float(re.findall('\\d+.?\\d+', iterations_line)[0])\n",
    "\n",
    "\n",
    "def parse_solution(path_to_log):\n",
    "    lines = _preprocess_log(path_to_log)\n",
    "    solution_line = list(filter(lambda line: line.startswith(SOLUTION_PREFIX), lines))[0]\n",
    "    return float(re.findall('\\d+.?\\d+e?\\+?\\d+', solution_line)[0])"
   ]
  },
  {
   "cell_type": "code",
   "execution_count": 3,
   "metadata": {},
   "outputs": [],
   "source": [
    "def analyse_runs(path_to_root_folder):\n",
    "    durations = [parse_solution_time(path) for path in Path(path_to_root_folder).glob(\"*.log\")]\n",
    "    solutions = [parse_solution(path) for path in Path(path_to_root_folder).glob(\"*.log\")]\n",
    "    iterations = [parse_iterations(path) for path in Path(path_to_root_folder).glob(\"*.log\")]\n",
    "    \n",
    "    mean, std = stats.norm.fit(solutions)\n",
    "    print(f\"Gurobi found the following optimal value on average: {mean} (std {std}).\")\n",
    "    mean, std = stats.norm.fit(iterations)\n",
    "    print(f\"Gurobi needed on average {mean:.0f} (std {std:.0f}) iterations to find the optimal value.\")\n",
    "    mean, std = stats.norm.fit(durations)\n",
    "    print(f\"Gurobi needed on average {mean:.0f}s (std {std:.0f}s) to find the optimal value.\")\n",
    "\n",
    "    \n",
    "def diff(path_to_root_folder, path_to_root_folder_of_base):\n",
    "    durations = [parse_solution_time(path) for path in Path(path_to_root_folder).glob(\"*.log\")]\n",
    "    solutions = [parse_solution(path) for path in Path(path_to_root_folder).glob(\"*.log\")]\n",
    "    iterations = [parse_iterations(path) for path in Path(path_to_root_folder).glob(\"*.log\")]\n",
    "    \n",
    "    base_durations = [parse_solution_time(path) for path in Path(path_to_root_folder_of_base).glob(\"*.log\")]\n",
    "    base_solutions = [parse_solution(path) for path in Path(path_to_root_folder_of_base).glob(\"*.log\")]\n",
    "    base_iterations = [parse_iterations(path) for path in Path(path_to_root_folder_of_base).glob(\"*.log\")]\n",
    "    \n",
    "    mean, std = stats.norm.fit(solutions)\n",
    "    mean_base, std_base = stats.norm.fit(base_solutions)\n",
    "    print(f\"Relative diff of objective average to base: {mean / mean_base}\")\n",
    "    mean, std = stats.norm.fit(iterations)\n",
    "    mean_base, std_base = stats.norm.fit(base_iterations)\n",
    "    print(f\"Relative diff of iterations average to base: {mean / mean_base}\")\n",
    "    mean, std = stats.norm.fit(durations)\n",
    "    mean_base, std_base = stats.norm.fit(base_durations)\n",
    "    print(f\"Relative diff of durations average to base: {mean / mean_base}\")\n",
    "    "
   ]
  },
  {
   "cell_type": "code",
   "execution_count": 4,
   "metadata": {},
   "outputs": [
    {
     "name": "stdout",
     "output_type": "stream",
     "text": [
      "Tolerances e-6\n",
      "--------------\n",
      "Gurobi found the following optimal value on average: 336375706000.0 (std 0.0).\n",
      "Gurobi needed on average 2927011 (std 0) iterations to find the optimal value.\n",
      "Gurobi needed on average 10794s (std 1146s) to find the optimal value.\n",
      "\n",
      "Tolerances e-4\n",
      "--------------\n",
      "Gurobi found the following optimal value on average: 336375403000.0 (std 0.0).\n",
      "Gurobi needed on average 2249170 (std 0) iterations to find the optimal value.\n",
      "Gurobi needed on average 18399s (std 1805s) to find the optimal value.\n",
      "Relative diff of objective average to base: 0.9999990992215115\n",
      "Relative diff of iterations average to base: 0.7684187042686208\n",
      "Relative diff of durations average to base: 1.7046015000200583\n",
      "\n",
      "Tolerances e-2\n",
      "--------------\n",
      "Gurobi found the following optimal value on average: 336375292600.0 (std 0.0).\n",
      "Gurobi needed on average 887148 (std 0) iterations to find the optimal value.\n",
      "Gurobi needed on average 4347s (std 641s) to find the optimal value.\n",
      "Relative diff of objective average to base: 0.9999987710170722\n",
      "Relative diff of iterations average to base: 0.3030900806317434\n",
      "Relative diff of durations average to base: 0.40270840403502484\n",
      "\n"
     ]
    }
   ],
   "source": [
    "print(\"Tolerances e-6\")\n",
    "print(\"--------------\")\n",
    "analyse_runs(\"minus6/\")\n",
    "print()\n",
    "print(\"Tolerances e-4\")\n",
    "print(\"--------------\")\n",
    "analyse_runs(\"minus4/\")\n",
    "diff(\"minus4/\", \"minus6/\")\n",
    "print()\n",
    "print(\"Tolerances e-2\")\n",
    "print(\"--------------\")\n",
    "analyse_runs(\"minus2/\")\n",
    "diff(\"minus2/\", \"minus6/\")\n",
    "print()"
   ]
  },
  {
   "cell_type": "markdown",
   "metadata": {},
   "source": [
    "## Results\n",
    "\n",
    "Interestingly, the runs with the same parameter set always lead to the same objective value and the same number of iterations. The found objective value can be called close enough for all chosen tolerance values. The largest tolerance needed only a third of the number of iterations and only 40% of the time of the default value set (e-6).\n",
    "\n",
    "BUT, Barrier seems to be sensitive to the tolerances: the medium value of e-4 performed worse in terms of time than the more tight parameter set of e-6, despite needing about 25% less iterations. Potentially, this may stem from the fact that the model has numerical issues, see ranges below. It would be good to solve the numerical issues through scaling and then repeat this experiment.\n",
    "\n",
    "```\n",
    "[2019-03-21 19:53:24] SOLVER   Matrix range     [1e-05, 4e+05]\n",
    "[2019-03-21 19:53:24] SOLVER   Objective range  [1e+00, 1e+00]\n",
    "[2019-03-21 19:53:24] SOLVER   Bounds range     [5e+01, 3e+06]\n",
    "[2019-03-21 19:53:24] SOLVER   RHS range        [7e+00, 3e+06]\n",
    "```\n"
   ]
  },
  {
   "cell_type": "markdown",
   "metadata": {},
   "source": [
    "## Conclusion\n",
    "\n",
    "I can say that the different tolerance values did not impact the solution in a strong way. Thus, changing the tolerances in this model is safe. However, I cannot give any recommendation regarding solution times. Solve time _can_ be much faster with tolerances that are more loose, but they can as well be worse."
   ]
  },
  {
   "cell_type": "code",
   "execution_count": null,
   "metadata": {},
   "outputs": [],
   "source": []
  }
 ],
 "metadata": {
  "kernelspec": {
   "display_name": "Python 3",
   "language": "python",
   "name": "python3"
  },
  "language_info": {
   "codemirror_mode": {
    "name": "ipython",
    "version": 3
   },
   "file_extension": ".py",
   "mimetype": "text/x-python",
   "name": "python",
   "nbconvert_exporter": "python",
   "pygments_lexer": "ipython3",
   "version": "3.6.5"
  }
 },
 "nbformat": 4,
 "nbformat_minor": 2
}
